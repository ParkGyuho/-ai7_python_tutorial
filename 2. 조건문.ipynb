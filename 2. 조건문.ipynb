{
 "cells": [
  {
   "cell_type": "markdown",
   "metadata": {},
   "source": [
    "# 멋쟁이 사자처럼 AI School 7기 \n",
    "## Part 2. 조건문\n",
    "### 1. if문\n",
    "대부분의 프로그램은 사용자에게 선택을 요구하고, 선택에 따라 다른 동작을 보임  \n",
    "파이썬에서 이런 기능을하는 것이 `if 조건문`\n",
    "\n",
    "```python\n",
    "조건문 조건:\n",
    "    조건이 참이면 실행할 코드\n",
    "```"
   ]
  },
  {
   "cell_type": "code",
   "execution_count": 27,
   "metadata": {},
   "outputs": [
    {
     "name": "stdout",
     "output_type": "stream",
     "text": [
      "참입니다!!\n"
     ]
    }
   ],
   "source": [
    "if True:\n",
    "    print('참입니다!!')"
   ]
  },
  {
   "cell_type": "code",
   "execution_count": 31,
   "metadata": {},
   "outputs": [
    {
     "name": "stdout",
     "output_type": "stream",
     "text": [
      "사람이 5명 보다 적은 4명 입니다!\n"
     ]
    }
   ],
   "source": [
    "people = 4\n",
    "\n",
    "if people < 5:\n",
    "    print(f\"사람이 5명 보다 적은 {people}명 입니다!\")\n",
    "    \n",
    "#     print('사람이 5명보다 적은',people,'명 입니다!')"
   ]
  },
  {
   "cell_type": "markdown",
   "metadata": {},
   "source": [
    "### 2. 조건식\n",
    "조건문에 들어가는 조건식은 결국 참(`True`)과 거짓(`False`)로 판명 됨  \n",
    "조건식에는 익숙한 수학 연산이나 bool 연산이 주로 사용 됨\n",
    "\n",
    "#### bool 연산과 논리 연산\n",
    "[bool 연산 참고 | 파이썬 코딩 도장](https://dojang.io/mod/page/view.php?id=2192)\n"
   ]
  },
  {
   "cell_type": "code",
   "execution_count": 32,
   "metadata": {},
   "outputs": [
    {
     "data": {
      "text/plain": [
       "True"
      ]
     },
     "execution_count": 32,
     "metadata": {},
     "output_type": "execute_result"
    }
   ],
   "source": [
    "4 < 5"
   ]
  },
  {
   "cell_type": "code",
   "execution_count": 34,
   "metadata": {},
   "outputs": [
    {
     "data": {
      "text/plain": [
       "False"
      ]
     },
     "execution_count": 34,
     "metadata": {},
     "output_type": "execute_result"
    }
   ],
   "source": [
    "4 > 5"
   ]
  },
  {
   "cell_type": "code",
   "execution_count": 39,
   "metadata": {},
   "outputs": [
    {
     "name": "stdout",
     "output_type": "stream",
     "text": [
      "참입니다\n"
     ]
    }
   ],
   "source": [
    "if (True):\n",
    "    print(\"참입니다\")"
   ]
  },
  {
   "cell_type": "code",
   "execution_count": 37,
   "metadata": {},
   "outputs": [
    {
     "data": {
      "text/plain": [
       "True"
      ]
     },
     "execution_count": 37,
     "metadata": {},
     "output_type": "execute_result"
    }
   ],
   "source": [
    "True and True"
   ]
  },
  {
   "cell_type": "code",
   "execution_count": 42,
   "metadata": {},
   "outputs": [
    {
     "data": {
      "text/plain": [
       "False"
      ]
     },
     "execution_count": 42,
     "metadata": {},
     "output_type": "execute_result"
    }
   ],
   "source": [
    "True and False"
   ]
  },
  {
   "cell_type": "code",
   "execution_count": 43,
   "metadata": {},
   "outputs": [
    {
     "data": {
      "text/plain": [
       "False"
      ]
     },
     "execution_count": 43,
     "metadata": {},
     "output_type": "execute_result"
    }
   ],
   "source": [
    "False and True"
   ]
  },
  {
   "cell_type": "code",
   "execution_count": 45,
   "metadata": {},
   "outputs": [
    {
     "data": {
      "text/plain": [
       "True"
      ]
     },
     "execution_count": 45,
     "metadata": {},
     "output_type": "execute_result"
    }
   ],
   "source": [
    "True or False"
   ]
  },
  {
   "cell_type": "code",
   "execution_count": 46,
   "metadata": {},
   "outputs": [
    {
     "data": {
      "text/plain": [
       "False"
      ]
     },
     "execution_count": 46,
     "metadata": {},
     "output_type": "execute_result"
    }
   ],
   "source": [
    "False or False"
   ]
  },
  {
   "cell_type": "code",
   "execution_count": 48,
   "metadata": {},
   "outputs": [
    {
     "data": {
      "text/plain": [
       "5"
      ]
     },
     "execution_count": 48,
     "metadata": {},
     "output_type": "execute_result"
    }
   ],
   "source": [
    "True + True + True + True + True"
   ]
  },
  {
   "cell_type": "code",
   "execution_count": 49,
   "metadata": {},
   "outputs": [
    {
     "name": "stdout",
     "output_type": "stream",
     "text": [
      "실행합니다\n"
     ]
    }
   ],
   "source": [
    "if True:\n",
    "    print('실행합니다')"
   ]
  },
  {
   "cell_type": "code",
   "execution_count": 50,
   "metadata": {},
   "outputs": [
    {
     "name": "stdout",
     "output_type": "stream",
     "text": [
      "실행합니다\n"
     ]
    }
   ],
   "source": [
    "if 1:\n",
    "    print('실행합니다')"
   ]
  },
  {
   "cell_type": "code",
   "execution_count": 51,
   "metadata": {},
   "outputs": [
    {
     "name": "stdout",
     "output_type": "stream",
     "text": [
      "실행합니다\n"
     ]
    }
   ],
   "source": [
    "if 2:\n",
    "    print('실행합니다')"
   ]
  },
  {
   "cell_type": "code",
   "execution_count": 52,
   "metadata": {},
   "outputs": [
    {
     "name": "stdout",
     "output_type": "stream",
     "text": [
      "참입니다.\n"
     ]
    }
   ],
   "source": [
    "if 99:\n",
    "    print('참입니다.')"
   ]
  },
  {
   "cell_type": "code",
   "execution_count": 53,
   "metadata": {},
   "outputs": [
    {
     "name": "stdout",
     "output_type": "stream",
     "text": [
      "리스트 값이 있습니다\n"
     ]
    }
   ],
   "source": [
    "list1 = [1,2,3,4,5,6]\n",
    "\n",
    "if list1:\n",
    "    print('리스트 값이 있습니다')"
   ]
  },
  {
   "cell_type": "code",
   "execution_count": 72,
   "metadata": {},
   "outputs": [],
   "source": [
    "if 0:\n",
    "    print('실행이 될까요?!')"
   ]
  },
  {
   "cell_type": "code",
   "execution_count": 79,
   "metadata": {},
   "outputs": [],
   "source": [
    "if None:\n",
    "    print('참입니다.')"
   ]
  },
  {
   "cell_type": "code",
   "execution_count": 86,
   "metadata": {},
   "outputs": [],
   "source": [
    "if []:\n",
    "    print('참')"
   ]
  },
  {
   "cell_type": "code",
   "execution_count": 87,
   "metadata": {},
   "outputs": [
    {
     "name": "stdout",
     "output_type": "stream",
     "text": [
      "참? 실행이 될까요?!\n"
     ]
    }
   ],
   "source": [
    "if [None]:\n",
    "    print('참? 실행이 될까요?!')"
   ]
  },
  {
   "cell_type": "code",
   "execution_count": 88,
   "metadata": {},
   "outputs": [
    {
     "data": {
      "text/plain": [
       "True"
      ]
     },
     "execution_count": 88,
     "metadata": {},
     "output_type": "execute_result"
    }
   ],
   "source": [
    "[] != [None]"
   ]
  },
  {
   "cell_type": "code",
   "execution_count": 26,
   "metadata": {},
   "outputs": [
    {
     "name": "stdout",
     "output_type": "stream",
     "text": [
      "첫숫자34\n",
      "두숫자45\n",
      "79\n"
     ]
    }
   ],
   "source": [
    "def plus():\n",
    "    l = []\n",
    "    a = int(input('첫숫자'))\n",
    "    l.append(a)\n",
    "    b = int(input('두숫자'))\n",
    "    l.append(b)\n",
    "    \n",
    "    total = sum(l)\n",
    "    print(total)\n",
    "    \n",
    "plus()"
   ]
  },
  {
   "cell_type": "markdown",
   "metadata": {},
   "source": [
    "#### [직접 해보기] 조건식 만들기\n",
    "`hour` 변수에 현재 시각을 저장해 두었고, 현재 시각이 12시보다 빠를 때만 print문이 동작하게 조건식 세우기"
   ]
  },
  {
   "cell_type": "code",
   "execution_count": 91,
   "metadata": {},
   "outputs": [
    {
     "name": "stdout",
     "output_type": "stream",
     "text": [
      "오후입니다!\n"
     ]
    }
   ],
   "source": [
    "from datetime import datetime\n",
    "\n",
    "hour = datetime.now().hour\n",
    "\n",
    "hour\n",
    "\n",
    "if hour > 12:\n",
    "    print(\"오후입니다!\")"
   ]
  },
  {
   "cell_type": "markdown",
   "metadata": {},
   "source": [
    "##### [직접 해보기] 어떤 수가 3의 배수인지 판별해보기"
   ]
  },
  {
   "cell_type": "code",
   "execution_count": 92,
   "metadata": {},
   "outputs": [
    {
     "name": "stdout",
     "output_type": "stream",
     "text": [
      "15\n",
      "15은 3의 배수 입니다!\n"
     ]
    }
   ],
   "source": [
    "num = int(input())\n",
    "\n",
    "if num%3==0:\n",
    "    print(f\"{num}은 3의 배수 입니다!\")"
   ]
  },
  {
   "cell_type": "markdown",
   "metadata": {},
   "source": [
    "### if-else 조건문\n",
    "`if 조건문`에서 조건이 맞지 않는 상황을 다루는 조건문"
   ]
  },
  {
   "cell_type": "code",
   "execution_count": null,
   "metadata": {},
   "outputs": [],
   "source": [
    "if True:\n",
    "    pass # 조건이 참인 경우 실행\n",
    "else:\n",
    "    pass # 조건이 거짓인 경우 실행"
   ]
  },
  {
   "cell_type": "markdown",
   "metadata": {},
   "source": [
    "조건이 여러개인 경우에는 `if-elif-else 조건문`을 사용함\n",
    "\n",
    "```python\n",
    "if cond1:\n",
    "    pass # 조건 1이 참인 경우 실행\n",
    "elif cond2:\n",
    "    pass # 조건 2가 참인 경우 실행\n",
    "else:\n",
    "    pass # 조건 1과 2가 모두 거짓인 경우 실행\n",
    "```"
   ]
  },
  {
   "cell_type": "code",
   "execution_count": 94,
   "metadata": {},
   "outputs": [
    {
     "data": {
      "text/plain": [
       "['B+', 'A+', 'A+']"
      ]
     },
     "execution_count": 94,
     "metadata": {},
     "output_type": "execute_result"
    }
   ],
   "source": [
    "math_score = [85,95,100]\n",
    "grade = []\n",
    "\n",
    "for i in math_score:\n",
    "  if i >= 95:\n",
    "    grade.append('A+')\n",
    "  elif i >= 90:\n",
    "    grade.append('A')\n",
    "  elif i >= 85:\n",
    "    grade.append('B+')\n",
    "  else:\n",
    "    grade.append('B')\n",
    "    \n",
    "grade"
   ]
  },
  {
   "cell_type": "code",
   "execution_count": 95,
   "metadata": {},
   "outputs": [
    {
     "name": "stdout",
     "output_type": "stream",
     "text": [
      "25\n",
      "100이하의 숫자 입니다!\n"
     ]
    }
   ],
   "source": [
    "user_input = int(input())\n",
    "\n",
    "if user_input<=10:\n",
    "    print(\"10이하의 숫자 입니다!\")\n",
    "elif user_input<=100:\n",
    "    print(\"100이하의 숫자 입니다!\")\n",
    "else:\n",
    "    print(\"100보다 큰 숫자 입니다!\")"
   ]
  },
  {
   "cell_type": "markdown",
   "metadata": {},
   "source": [
    "##### [직접 해보기] 가위바위보 게임 만들기"
   ]
  },
  {
   "cell_type": "code",
   "execution_count": null,
   "metadata": {},
   "outputs": [],
   "source": [
    "```python\n",
    "여기에 코드입력\n",
    "```"
   ]
  },
  {
   "cell_type": "code",
   "execution_count": 96,
   "metadata": {},
   "outputs": [
    {
     "ename": "SyntaxError",
     "evalue": "invalid syntax (1374775261.py, line 1)",
     "output_type": "error",
     "traceback": [
      "\u001b[1;36m  Input \u001b[1;32mIn [96]\u001b[1;36m\u001b[0m\n\u001b[1;33m    1. 가위바위보에서 나오는 9가지 케이스를 if elif\u001b[0m\n\u001b[1;37m       ^\u001b[0m\n\u001b[1;31mSyntaxError\u001b[0m\u001b[1;31m:\u001b[0m invalid syntax\n"
     ]
    }
   ],
   "source": [
    "1. 가위바위보에서 나오는 9가지 케이스를 if elif(직관)\n",
    "2. if 안에 if(중)\n",
    "3. 비겼습니다 케이스를 먼저 if로 빼고 나머지 승패 6가지 케이스(효율)"
   ]
  },
  {
   "cell_type": "code",
   "execution_count": null,
   "metadata": {},
   "outputs": [],
   "source": [
    "import random\n",
    "\n",
    "r = random.choice([\"가위\", \"바위\", \"보\"])\n",
    "user = input(\"가위 바위 보!\")\n",
    "\n",
    "if r==user:\n",
    "    print('비겼습니다!!!')\n",
    "    \n",
    "elif user=='가위':\n",
    "    if r == '보':\n",
    "        print('이겼습니다!!')\n",
    "     \n",
    "    #컴퓨터가 바위일 때\n",
    "    else:\n",
    "        print('졌습니다!!')\n",
    "        \n",
    "elif user=='보':\n",
    "    if r == '바위':\n",
    "        print('이겼습니다!!')\n",
    "    else:\n",
    "        print('졌습니다!!')"
   ]
  },
  {
   "cell_type": "code",
   "execution_count": 97,
   "metadata": {},
   "outputs": [
    {
     "name": "stdout",
     "output_type": "stream",
     "text": [
      "나는 박규호입니다.\n",
      "나는 박규호입니다.\n",
      "나는 박규호입니다.\n",
      "나는 박규호입니다.\n",
      "나는 박규호입니다.\n",
      "나는 박규호입니다.\n",
      "나는 박규호입니다.\n",
      "나는 박규호입니다.\n",
      "나는 박규호입니다.\n",
      "나는 박규호입니다.\n",
      "나는 박규호입니다.\n",
      "나는 박규호입니다.\n",
      "나는 박규호입니다.\n",
      "나는 박규호입니다.\n",
      "나는 박규호입니다.\n",
      "나는 박규호입니다.\n"
     ]
    }
   ],
   "source": [
    "print('나는 박규호입니다.')\n",
    "print('나는 박규호입니다.')\n",
    "print('나는 박규호입니다.')\n",
    "print('나는 박규호입니다.')\n",
    "print('나는 박규호입니다.')\n",
    "print('나는 박규호입니다.')\n",
    "print('나는 박규호입니다.')\n",
    "print('나는 박규호입니다.')\n",
    "print('나는 박규호입니다.')\n",
    "print('나는 박규호입니다.')\n",
    "print('나는 박규호입니다.')\n",
    "print('나는 박규호입니다.')\n",
    "print('나는 박규호입니다.')\n",
    "print('나는 박규호입니다.')\n",
    "print('나는 박규호입니다.')\n",
    "print('나는 박규호입니다.')\n"
   ]
  },
  {
   "cell_type": "code",
   "execution_count": 98,
   "metadata": {},
   "outputs": [
    {
     "name": "stdout",
     "output_type": "stream",
     "text": [
      "나는 박규호입니다.\n",
      "나는 박규호입니다.\n",
      "나는 박규호입니다.\n",
      "나는 박규호입니다.\n",
      "나는 박규호입니다.\n",
      "나는 박규호입니다.\n",
      "나는 박규호입니다.\n",
      "나는 박규호입니다.\n",
      "나는 박규호입니다.\n",
      "나는 박규호입니다.\n"
     ]
    }
   ],
   "source": [
    "for i in range(10):\n",
    "    print('나는 박규호입니다.')"
   ]
  }
 ],
 "metadata": {
  "kernelspec": {
   "display_name": "Python 3 (ipykernel)",
   "language": "python",
   "name": "python3"
  },
  "language_info": {
   "codemirror_mode": {
    "name": "ipython",
    "version": 3
   },
   "file_extension": ".py",
   "mimetype": "text/x-python",
   "name": "python",
   "nbconvert_exporter": "python",
   "pygments_lexer": "ipython3",
   "version": "3.9.12"
  },
  "vscode": {
   "interpreter": {
    "hash": "ca7051211f7d0cb84f9a5276aced427e23f2f109de898d0e63a1c129a12d67d5"
   }
  }
 },
 "nbformat": 4,
 "nbformat_minor": 2
}
