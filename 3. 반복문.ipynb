{
 "cells": [
  {
   "cell_type": "markdown",
   "metadata": {},
   "source": [
    "# 멋쟁이 사자처럼 AI School 7기 \n",
    "## Part 3. 반복문\n",
    "### 1. for 반복문\n",
    "#### for in list\n",
    "코드를 반복해서 실행하는 `for 반복문`\n",
    "\n",
    "```python\n",
    "for 내용을 대입할 변수 in 반복하려는 내용:\n",
    "    반복할 코드 블록\n",
    "```"
   ]
  },
  {
   "cell_type": "code",
   "execution_count": 2,
   "metadata": {},
   "outputs": [
    {
     "name": "stdout",
     "output_type": "stream",
     "text": [
      "가위\n",
      "바위\n",
      "보\n",
      "가위\n",
      "바위\n",
      "보\n",
      "가위\n",
      "바위\n",
      "보\n"
     ]
    }
   ],
   "source": [
    "patterns = [\"가위\", \"바위\", \"보\", \"가위\", \"바위\", \"보\", \"가위\", \"바위\", \"보\"]\n",
    "\n",
    "for pattern in patterns:\n",
    "    print(pattern)"
   ]
  },
  {
   "cell_type": "markdown",
   "metadata": {},
   "source": [
    "`for 반복문`은 코드를 필요한 만큼 반복해서 실행하는 기능"
   ]
  },
  {
   "cell_type": "code",
   "execution_count": 3,
   "metadata": {},
   "outputs": [
    {
     "data": {
      "text/plain": [
       "9"
      ]
     },
     "execution_count": 3,
     "metadata": {},
     "output_type": "execute_result"
    }
   ],
   "source": [
    "len(patterns)"
   ]
  },
  {
   "cell_type": "markdown",
   "metadata": {},
   "source": [
    "리스트의 길이 만큼 반복문이 실행되었음\n",
    "\n",
    "#### for in range\n",
    "`for 반복문`을 이용해 원하는 횟수만큼 반복하는 방법"
   ]
  },
  {
   "cell_type": "code",
   "execution_count": 11,
   "metadata": {},
   "outputs": [
    {
     "name": "stdout",
     "output_type": "stream",
     "text": [
      "0\n",
      "1\n",
      "2\n",
      "3\n",
      "4\n"
     ]
    }
   ],
   "source": [
    "for i in [0, 1, 2, 3, 4]:\n",
    "    print(i)"
   ]
  },
  {
   "cell_type": "code",
   "execution_count": 13,
   "metadata": {},
   "outputs": [
    {
     "name": "stdout",
     "output_type": "stream",
     "text": [
      "0\n",
      "1\n",
      "2\n",
      "3\n",
      "4\n"
     ]
    }
   ],
   "source": [
    "for i in range(5):\n",
    "    print(i)"
   ]
  },
  {
   "cell_type": "code",
   "execution_count": 16,
   "metadata": {},
   "outputs": [
    {
     "name": "stdout",
     "output_type": "stream",
     "text": [
      "0번째 학생: James\n",
      "1번째 학생: Kate\n",
      "2번째 학생: Ban\n",
      "3번째 학생: Nami\n"
     ]
    }
   ],
   "source": [
    "names = [\"James\", \"Kate\", \"Ban\", \"Nami\"]\n",
    "\n",
    "for i in range(len(names)):\n",
    "    print(f\"{i}번째 학생: {names[i]}\")"
   ]
  },
  {
   "cell_type": "code",
   "execution_count": 18,
   "metadata": {},
   "outputs": [
    {
     "name": "stdout",
     "output_type": "stream",
     "text": [
      "0번째 학생: James\n",
      "1번째 학생: Kate\n",
      "2번째 학생: Ban\n",
      "3번째 학생: Nami\n"
     ]
    }
   ],
   "source": [
    "for i, name in enumerate(names):\n",
    "    print(f\"{i}번째 학생: {name}\")"
   ]
  },
  {
   "cell_type": "markdown",
   "metadata": {},
   "source": [
    "##### [직접 해보기] 무지개의 색상을 순서와 함께 출력해보기"
   ]
  },
  {
   "cell_type": "code",
   "execution_count": null,
   "metadata": {},
   "outputs": [],
   "source": [
    "rainbow = [\"빨\", \"주\", \"노\", \"초\", \"파\", \"남\", \"보\"]\n",
    "\n"
   ]
  },
  {
   "cell_type": "markdown",
   "metadata": {},
   "source": [
    "### [직접 해보기] 구구단 만들기"
   ]
  },
  {
   "cell_type": "code",
   "execution_count": 35,
   "metadata": {},
   "outputs": [
    {
     "name": "stdout",
     "output_type": "stream",
     "text": [
      "\n",
      "i= 2\n",
      "\n",
      "j= 1\n",
      "2*1=2\n",
      "j= 2\n",
      "2*2=4\n",
      "j= 3\n",
      "2*3=6\n",
      "j= 4\n",
      "2*4=8\n",
      "j= 5\n",
      "2*5=10\n",
      "j= 6\n",
      "2*6=12\n",
      "j= 7\n",
      "2*7=14\n",
      "j= 8\n",
      "2*8=16\n",
      "j= 9\n",
      "2*9=18\n",
      "\n",
      "i= 3\n",
      "\n",
      "j= 1\n",
      "3*1=3\n",
      "j= 2\n",
      "3*2=6\n",
      "j= 3\n",
      "3*3=9\n",
      "j= 4\n",
      "3*4=12\n",
      "j= 5\n",
      "3*5=15\n",
      "j= 6\n",
      "3*6=18\n",
      "j= 7\n",
      "3*7=21\n",
      "j= 8\n",
      "3*8=24\n",
      "j= 9\n",
      "3*9=27\n",
      "\n",
      "i= 4\n",
      "\n",
      "j= 1\n",
      "4*1=4\n",
      "j= 2\n",
      "4*2=8\n",
      "j= 3\n",
      "4*3=12\n",
      "j= 4\n",
      "4*4=16\n",
      "j= 5\n",
      "4*5=20\n",
      "j= 6\n",
      "4*6=24\n",
      "j= 7\n",
      "4*7=28\n",
      "j= 8\n",
      "4*8=32\n",
      "j= 9\n",
      "4*9=36\n",
      "\n",
      "i= 5\n",
      "\n",
      "j= 1\n",
      "5*1=5\n",
      "j= 2\n",
      "5*2=10\n",
      "j= 3\n",
      "5*3=15\n",
      "j= 4\n",
      "5*4=20\n",
      "j= 5\n",
      "5*5=25\n",
      "j= 6\n",
      "5*6=30\n",
      "j= 7\n",
      "5*7=35\n",
      "j= 8\n",
      "5*8=40\n",
      "j= 9\n",
      "5*9=45\n",
      "\n",
      "i= 6\n",
      "\n",
      "j= 1\n",
      "6*1=6\n",
      "j= 2\n",
      "6*2=12\n",
      "j= 3\n",
      "6*3=18\n",
      "j= 4\n",
      "6*4=24\n",
      "j= 5\n",
      "6*5=30\n",
      "j= 6\n",
      "6*6=36\n",
      "j= 7\n",
      "6*7=42\n",
      "j= 8\n",
      "6*8=48\n",
      "j= 9\n",
      "6*9=54\n",
      "\n",
      "i= 7\n",
      "\n",
      "j= 1\n",
      "7*1=7\n",
      "j= 2\n",
      "7*2=14\n",
      "j= 3\n",
      "7*3=21\n",
      "j= 4\n",
      "7*4=28\n",
      "j= 5\n",
      "7*5=35\n",
      "j= 6\n",
      "7*6=42\n",
      "j= 7\n",
      "7*7=49\n",
      "j= 8\n",
      "7*8=56\n",
      "j= 9\n",
      "7*9=63\n",
      "\n",
      "i= 8\n",
      "\n",
      "j= 1\n",
      "8*1=8\n",
      "j= 2\n",
      "8*2=16\n",
      "j= 3\n",
      "8*3=24\n",
      "j= 4\n",
      "8*4=32\n",
      "j= 5\n",
      "8*5=40\n",
      "j= 6\n",
      "8*6=48\n",
      "j= 7\n",
      "8*7=56\n",
      "j= 8\n",
      "8*8=64\n",
      "j= 9\n",
      "8*9=72\n",
      "\n",
      "i= 9\n",
      "\n",
      "j= 1\n",
      "9*1=9\n",
      "j= 2\n",
      "9*2=18\n",
      "j= 3\n",
      "9*3=27\n",
      "j= 4\n",
      "9*4=36\n",
      "j= 5\n",
      "9*5=45\n",
      "j= 6\n",
      "9*6=54\n",
      "j= 7\n",
      "9*7=63\n",
      "j= 8\n",
      "9*8=72\n",
      "j= 9\n",
      "9*9=81\n"
     ]
    }
   ],
   "source": [
    "#2단부터 9단까지\n",
    "\n",
    "for i in range(2,10):\n",
    "    print()    \n",
    "    print(\"i=\",i)\n",
    "    print()\n",
    "    for j in range(1,10):\n",
    "        print(\"j=\",j)\n",
    "        print(f\"{i}*{j}={i*j}\")\n",
    "        \n",
    "    "
   ]
  },
  {
   "cell_type": "markdown",
   "metadata": {},
   "source": [
    "### 2. while 반복문\n",
    "`while`문은 `for`문과 같은 반복문이지만 `if`문과 사용법이 더 비슷함"
   ]
  },
  {
   "cell_type": "code",
   "execution_count": 36,
   "metadata": {},
   "outputs": [
    {
     "ename": "NameError",
     "evalue": "name '조건문' is not defined",
     "output_type": "error",
     "traceback": [
      "\u001b[1;31m---------------------------------------------------------------------------\u001b[0m",
      "\u001b[1;31mNameError\u001b[0m                                 Traceback (most recent call last)",
      "Input \u001b[1;32mIn [36]\u001b[0m, in \u001b[0;36m<cell line: 1>\u001b[1;34m()\u001b[0m\n\u001b[1;32m----> 1\u001b[0m \u001b[38;5;28;01mwhile\u001b[39;00m \u001b[43m조건문\u001b[49m:\n\u001b[0;32m      2\u001b[0m     \u001b[38;5;28mprint\u001b[39m(\u001b[38;5;124m'\u001b[39m\u001b[38;5;124m출력하세요!\u001b[39m\u001b[38;5;124m'\u001b[39m)\n",
      "\u001b[1;31mNameError\u001b[0m: name '조건문' is not defined"
     ]
    }
   ],
   "source": [
    "#while 뒤 조건문이 False일때 까지 계속 실행한다!\n",
    "\n",
    "\n",
    "while True:\n",
    "    print('출력하세요!')\n",
    "    \n",
    "    break"
   ]
  },
  {
   "cell_type": "code",
   "execution_count": 37,
   "metadata": {},
   "outputs": [
    {
     "name": "stdout",
     "output_type": "stream",
     "text": [
      "25\n",
      "26\n",
      "27\n",
      "28\n",
      "29\n",
      "30\n",
      "31\n",
      "32\n",
      "33\n",
      "34\n",
      "35\n",
      "36\n",
      "37\n",
      "38\n",
      "39\n",
      "40\n",
      "41\n",
      "42\n",
      "43\n",
      "44\n",
      "45\n",
      "46\n",
      "47\n",
      "48\n",
      "49\n",
      "50\n",
      "51\n",
      "52\n",
      "53\n",
      "54\n",
      "55\n",
      "56\n",
      "57\n",
      "58\n",
      "59\n",
      "60\n",
      "61\n",
      "62\n",
      "63\n",
      "64\n",
      "65\n",
      "66\n",
      "67\n",
      "68\n",
      "69\n",
      "70\n",
      "71\n",
      "72\n",
      "73\n",
      "74\n",
      "75\n",
      "76\n",
      "77\n",
      "78\n",
      "79\n",
      "80\n"
     ]
    }
   ],
   "source": [
    "age = 24\n",
    "\n",
    "while age<80:\n",
    "    age = age+1\n",
    "    print(age)"
   ]
  },
  {
   "cell_type": "code",
   "execution_count": 2,
   "metadata": {},
   "outputs": [
    {
     "name": "stdout",
     "output_type": "stream",
     "text": [
      "선택된 값: 가\n"
     ]
    }
   ],
   "source": [
    "selected = None\n",
    "\n",
    "if selected not in [\"가위\", \"바위\", \"보\"]:\n",
    "    selected = input(\"가위, 바위, 보 ? > \")\n",
    "\n",
    "print(f\"선택된 값: {selected}\")"
   ]
  },
  {
   "cell_type": "code",
   "execution_count": 1,
   "metadata": {},
   "outputs": [
    {
     "name": "stdout",
     "output_type": "stream",
     "text": [
      "선택된 값: 가위\n"
     ]
    }
   ],
   "source": [
    "selected = None\n",
    "\n",
    "while selected not in [\"가위\", \"바위\", \"보\"]:\n",
    "    selected = input(\"가위, 바위, 보 ? > \")\n",
    "\n",
    "print(f\"선택된 값: {selected}\")"
   ]
  },
  {
   "cell_type": "markdown",
   "metadata": {},
   "source": [
    "`while`문은 조건이 만족하지 않을 때까지 실행됨\n",
    "\n",
    "#### for <-> while"
   ]
  },
  {
   "cell_type": "code",
   "execution_count": 3,
   "metadata": {},
   "outputs": [
    {
     "name": "stdout",
     "output_type": "stream",
     "text": [
      "가위\n",
      "바위\n",
      "보\n"
     ]
    }
   ],
   "source": [
    "patterns = [\"가위\", \"바위\", \"보\"]\n",
    "\n",
    "for pattern in patterns:\n",
    "    print(pattern)"
   ]
  },
  {
   "cell_type": "code",
   "execution_count": 38,
   "metadata": {},
   "outputs": [
    {
     "name": "stdout",
     "output_type": "stream",
     "text": [
      "가위\n",
      "바위\n",
      "보\n",
      "가위\n",
      "바위\n",
      "보\n",
      "가위\n",
      "바위\n",
      "보\n"
     ]
    }
   ],
   "source": [
    "# range 사용\n",
    "for i in range(len(patterns)):\n",
    "    print(patterns[i])"
   ]
  },
  {
   "cell_type": "code",
   "execution_count": 39,
   "metadata": {},
   "outputs": [
    {
     "name": "stdout",
     "output_type": "stream",
     "text": [
      "가위\n",
      "바위\n",
      "보\n",
      "가위\n",
      "바위\n",
      "보\n",
      "가위\n",
      "바위\n",
      "보\n"
     ]
    }
   ],
   "source": [
    "i = 0\n",
    "while i<len(patterns):\n",
    "    # print(i)\n",
    "    print(patterns[i])\n",
    "    i += 1"
   ]
  },
  {
   "cell_type": "markdown",
   "metadata": {},
   "source": [
    "##### [직접 해보기] while문 작성해보기\n",
    "모든 값 출력하기"
   ]
  },
  {
   "cell_type": "code",
   "execution_count": null,
   "metadata": {},
   "outputs": [],
   "source": [
    "numbers = [1, 2, 3, 4, 5]\n",
    "while _____:\n",
    "    print(____)"
   ]
  },
  {
   "cell_type": "code",
   "execution_count": 42,
   "metadata": {},
   "outputs": [
    {
     "name": "stdout",
     "output_type": "stream",
     "text": [
      "[1, 2, 3, 4, 5]\n"
     ]
    }
   ],
   "source": [
    "numbers = [1, 2, 3, 4, 5]\n",
    "while True:\n",
    "    print(numbers)\n",
    "    break"
   ]
  },
  {
   "cell_type": "code",
   "execution_count": 44,
   "metadata": {},
   "outputs": [
    {
     "name": "stdout",
     "output_type": "stream",
     "text": [
      "1\n",
      "2\n",
      "3\n",
      "4\n",
      "5\n"
     ]
    }
   ],
   "source": [
    "numbers = [1, 2, 3, 4, 5]\n",
    "while True:\n",
    "    for i in range(len(numbers)):\n",
    "      print(numbers[i])\n",
    "    break"
   ]
  },
  {
   "cell_type": "code",
   "execution_count": 46,
   "metadata": {},
   "outputs": [
    {
     "name": "stdout",
     "output_type": "stream",
     "text": [
      "1\n",
      "2\n",
      "3\n",
      "4\n",
      "5\n"
     ]
    }
   ],
   "source": [
    "i = 1\n",
    "while i<6:\n",
    "  print(i)\n",
    "  i += 1"
   ]
  },
  {
   "cell_type": "code",
   "execution_count": 47,
   "metadata": {},
   "outputs": [
    {
     "name": "stdout",
     "output_type": "stream",
     "text": [
      "1\n",
      "2\n",
      "3\n",
      "4\n",
      "5\n"
     ]
    }
   ],
   "source": [
    "numbers = [1, 2, 3, 4, 5]\n",
    "i=0\n",
    "while i<5:\n",
    "    print(numbers[i])\n",
    "    i+=1"
   ]
  },
  {
   "cell_type": "code",
   "execution_count": 48,
   "metadata": {},
   "outputs": [
    {
     "name": "stdout",
     "output_type": "stream",
     "text": [
      "1\n",
      "2\n",
      "3\n",
      "4\n",
      "5\n"
     ]
    }
   ],
   "source": [
    "numbers = [1, 2, 3, 4, 5, 6, 7, 8,9, 10]\n",
    "\n",
    "i = 0\n",
    "while i < len(numbers):\n",
    "    print(numbers[i])\n",
    "    i += 1"
   ]
  },
  {
   "cell_type": "markdown",
   "metadata": {},
   "source": [
    "##### [직접 해보기] 짝수만 출력해보기\n",
    "`반복문`과 `조건문`을 사용해 1부터 50까지의 짝수만 출력해보기,  \n",
    "`print()` 함수의 `end=` 옵션을 이용하면 출력 형식에 변화를 줄 수 있습니다."
   ]
  },
  {
   "cell_type": "code",
   "execution_count": 11,
   "metadata": {},
   "outputs": [
    {
     "name": "stdout",
     "output_type": "stream",
     "text": [
      "1\n",
      "2\n",
      "3\n"
     ]
    }
   ],
   "source": [
    "print(1)\n",
    "print(2)\n",
    "print(3)"
   ]
  },
  {
   "cell_type": "code",
   "execution_count": 12,
   "metadata": {},
   "outputs": [
    {
     "name": "stdout",
     "output_type": "stream",
     "text": [
      "1 2 3 "
     ]
    }
   ],
   "source": [
    "print(1, end=\" \")\n",
    "print(2, end=\" \")\n",
    "print(3, end=\" \")"
   ]
  },
  {
   "cell_type": "code",
   "execution_count": 10,
   "metadata": {},
   "outputs": [
    {
     "name": "stdout",
     "output_type": "stream",
     "text": [
      "2 4 6 8 10 12 14 16 18 20 22 24 26 28 30 32 34 36 38 40 42 44 46 48 50 "
     ]
    }
   ],
   "source": []
  },
  {
   "cell_type": "markdown",
   "metadata": {},
   "source": [
    "### 3. break와 continue\n",
    "#### 3-1. break\n",
    "반복문 안에서 `break`가 실행되면 반복을 즉시 종료하고 반복문 블록을 빠져 나감"
   ]
  },
  {
   "cell_type": "code",
   "execution_count": 13,
   "metadata": {},
   "outputs": [
    {
     "name": "stdout",
     "output_type": "stream",
     "text": [
      "1\n",
      "2\n",
      "3\n",
      "4\n"
     ]
    }
   ],
   "source": [
    "l = range(1, 11)\n",
    "for v in l:\n",
    "    # 값이 5인 경우 반복문을 종료\n",
    "    if v==5:\n",
    "        break\n",
    "    print(v)"
   ]
  },
  {
   "cell_type": "markdown",
   "metadata": {},
   "source": [
    "### 3-2. continue\n",
    "`break`가 반복문을 즉시 끝내는 기능이면, `continue`는 이번 반복만 끝내고 다음 반복을 당장 시작하게하는 기능\n"
   ]
  },
  {
   "cell_type": "code",
   "execution_count": 50,
   "metadata": {},
   "outputs": [
    {
     "name": "stdout",
     "output_type": "stream",
     "text": [
      "1\n",
      "3\n",
      "5\n",
      "7\n",
      "9\n"
     ]
    }
   ],
   "source": [
    "# 10까지의 홀수만 출력하고, 홀수가 아닌 경우는 다음 반복문으로 넘어감\n",
    "for i in range(1, 11):\n",
    "    if i%2==0:\n",
    "        continue\n",
    "    print(i)"
   ]
  },
  {
   "cell_type": "markdown",
   "metadata": {},
   "source": [
    "### 3-3. pass\n",
    "`pass`는 기능을 구현하지 않고 그냥 넘어가는 경우에 사용함"
   ]
  },
  {
   "cell_type": "code",
   "execution_count": 51,
   "metadata": {},
   "outputs": [],
   "source": [
    "for i in range(1, 11):\n",
    "    pass"
   ]
  },
  {
   "cell_type": "code",
   "execution_count": 53,
   "metadata": {},
   "outputs": [
    {
     "ename": "NameError",
     "evalue": "name 'number' is not defined",
     "output_type": "error",
     "traceback": [
      "\u001b[1;31m---------------------------------------------------------------------------\u001b[0m",
      "\u001b[1;31mNameError\u001b[0m                                 Traceback (most recent call last)",
      "Input \u001b[1;32mIn [53]\u001b[0m, in \u001b[0;36m<cell line: 1>\u001b[1;34m()\u001b[0m\n\u001b[1;32m----> 1\u001b[0m \u001b[38;5;28;01mif\u001b[39;00m \u001b[43mnumber\u001b[49m \u001b[38;5;241m%\u001b[39m\u001b[38;5;241m2\u001b[39m\u001b[38;5;241m==\u001b[39m\u001b[38;5;241m0\u001b[39m:\n\u001b[0;32m      2\u001b[0m     \u001b[38;5;28mprint\u001b[39m(\u001b[38;5;124m'\u001b[39m\u001b[38;5;124m'\u001b[39m)\n\u001b[0;32m      3\u001b[0m \u001b[38;5;28;01melse\u001b[39;00m:\n",
      "\u001b[1;31mNameError\u001b[0m: name 'number' is not defined"
     ]
    }
   ],
   "source": [
    "if number %2==0:\n",
    "    print('')\n",
    "else:\n",
    "    print('')"
   ]
  },
  {
   "cell_type": "markdown",
   "metadata": {},
   "source": [
    "위와 같은 코드는 `for` 반복문 안에 코드가 작성되어 있지 않아 (형식에 맞지 않아) 오류가 발생하지만,"
   ]
  },
  {
   "cell_type": "code",
   "execution_count": 16,
   "metadata": {},
   "outputs": [],
   "source": [
    "for i in range(1, 11):\n",
    "    pass"
   ]
  },
  {
   "cell_type": "markdown",
   "metadata": {},
   "source": [
    "`pass`를 이용하는 경우, 오류 없이 실행되는 모습을 볼 수 있음"
   ]
  },
  {
   "cell_type": "markdown",
   "metadata": {},
   "source": [
    "##### [직접 해보기] 값이 32인 값들의 인덱스(위치)를 모두 출력하기"
   ]
  },
  {
   "cell_type": "code",
   "execution_count": null,
   "metadata": {},
   "outputs": [],
   "source": [
    "s = [33, 35, 34, 37, 32, 35, 39, 32, 35, 29]\n",
    "\n",
    "for i, size in enumerate(s): # enumerate는 인덱스와 값을 묶어 반환하는 함수\n",
    "    #"
   ]
  }
 ],
 "metadata": {
  "kernelspec": {
   "display_name": "Python 3 (ipykernel)",
   "language": "python",
   "name": "python3"
  },
  "language_info": {
   "codemirror_mode": {
    "name": "ipython",
    "version": 3
   },
   "file_extension": ".py",
   "mimetype": "text/x-python",
   "name": "python",
   "nbconvert_exporter": "python",
   "pygments_lexer": "ipython3",
   "version": "3.9.12"
  },
  "vscode": {
   "interpreter": {
    "hash": "ca7051211f7d0cb84f9a5276aced427e23f2f109de898d0e63a1c129a12d67d5"
   }
  }
 },
 "nbformat": 4,
 "nbformat_minor": 2
}
